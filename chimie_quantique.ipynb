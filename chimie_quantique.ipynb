{
 "cells": [
  {
   "cell_type": "markdown",
   "id": "0ab7570e-6ecf-4de7-a367-5e9e2b88b704",
   "metadata": {},
   "source": [
    "# <a id='toc1_'></a>[Calcul de chimie quantique: cas de la molécule de furan](#toc0_)\n",
    "\n",
    " **D. SHARON CABRELLE** sharon.djaparou@facsciences-uy1.cm\n",
    " \n",
    "    * Master's degree in Physics - PMB - Quantum Optics\n",
    "       \n",
    "February 2025\n"
   ]
  },
  {
   "cell_type": "markdown",
   "id": "b3f35d08-e99c-427f-82a7-b6b7f6dd7c4c",
   "metadata": {},
   "source": [
    "# "
   ]
  },
  {
   "cell_type": "markdown",
   "id": "8186360c-afaf-477b-a019-b2935038fa5e",
   "metadata": {},
   "source": [
    "# INTRODUCTION"
   ]
  },
  {
   "cell_type": "markdown",
   "id": "1e4d13c4-e0ab-4d52-82fc-0dcb74f5d32d",
   "metadata": {},
   "source": [
    "Dans le domaine de la chimie moderne, la compréhension approfondie des molécules et de leurs propriétés est essentielle pour le développement de nouvelles technologies et applications. Les molécules, en tant qu'unités fondamentales de la matière, jouent un rôle crucial dans divers domaines tels que la pharmacologie, les matériaux avancés, et la chimie environnementale. Cette présentation se concentre sur une molécule spécifique, en examinant son intérêt scientifique, ses applications pratiques, ainsi que ses propriétés à l'aide d'outils informatiques comme RDKit. En outre, des calculs de chimie quantique, notamment par les méthodes HF, DFT et post-HF, seront réalisés pour explorer les caractéristiques électroniques et géométriques de la molécule, en fournissant des analyses et des interprétations."
   ]
  },
  {
   "cell_type": "markdown",
   "id": "773240cc-740a-4eb9-9f73-f83f30b49dc0",
   "metadata": {},
   "source": [
    "#  Description physique de la molécule de furan"
   ]
  },
  {
   "cell_type": "markdown",
   "id": "6b5d7f12-778f-4da3-bd85-dc5d25a90bfc",
   "metadata": {},
   "source": [
    "Le furan est un composé organique hétérocyclique, ayant la formule chimique *C₄H₄O*. Il se compose d’un cycle à cinq atomes, dont quatre carbones, quatre atomes d'hydrogène et un oxygène, avec des doubles liaisons.  C'est également un liquide incolore à température ambiante, avec un point d’ébullition d’environ 31 °C. Il a une odeur douce et agréable, souvent comparée à celle des fruits.\n",
    "\n",
    "# Intérêts et Applications de la molécule\n",
    "\n",
    "### Chimie Organique et Synthèse\n",
    "Le furan est une plateforme chimique importante pour la synthèse de divers composés. Il sert de précurseur dans la fabrication de produits chimiques plus complexes, notamment des polymères et des produits pharmaceutiques. Les réactions de cyclisation, telles que la réaction de Diels-Alder, permettent de créer des structures plus complexes à partir du furan.\n",
    "\n",
    "### Industrie Pharmaceutique\n",
    "De nombreux médicaments contiennent des unités furan dans leur structure. Le furan et ses dérivés ont montré des propriétés biologiques intéressantes, notamment des activités anti-inflammatoires, antitumorales et antimicrobiennes.\n",
    "\n",
    "### Matériaux et Polymères\n",
    "Le furan est utilisé dans la production de résines et de polymères, comme les résines phénoliques, qui sont largement utilisées dans la fabrication de matériaux composites et d'adhésifs. Les polymères à base de furan sont également étudiés pour leur durabilité et leur recyclabilité, offrant une alternative plus écologique aux plastiques traditionnels.\n",
    "\n",
    "### Agriculture et Alimentation\n",
    "Dans le domaine alimentaire, le furan peut se former lors de la cuisson de certains aliments. Bien que sa présence en tant que contaminant soit préoccupante, des études sont en cours pour comprendre ses effets et minimiser sa formation. Des recherches explorent également son utilisation comme intermédiaire dans la synthèse de pesticides.\n",
    "\n",
    "### Bioénergie\n",
    "Le furan et ses dérivés sont étudiés comme candidats potentiels pour la production de bioénergie et de biocarburants. Ils peuvent être produits à partir de biomasse, offrant une voie renouvelable pour des sources d'énergie alternatives."
   ]
  },
  {
   "cell_type": "markdown",
   "id": "6aff600a-f720-46c9-85d7-e703233b10f5",
   "metadata": {},
   "source": [
    "#  Présentation de la molécule avec rdkit"
   ]
  },
  {
   "cell_type": "code",
   "execution_count": 35,
   "id": "49db995c-5fa7-4df4-bccd-c8dad6d020d0",
   "metadata": {},
   "outputs": [
    {
     "data": {
      "text/plain": [
       "'2.7.0'"
      ]
     },
     "execution_count": 35,
     "metadata": {},
     "output_type": "execute_result"
    }
   ],
   "source": [
    "# importation des bibiothèques neccessaires\n",
    "import pyscf\n",
    "\n",
    "pyscf.__version__"
   ]
  },
  {
   "cell_type": "code",
   "execution_count": 41,
   "id": "799449b6-f07c-49b8-9b1d-f3cbd5818466",
   "metadata": {},
   "outputs": [],
   "source": [
    "from pyscf import gto"
   ]
  },
  {
   "cell_type": "code",
   "execution_count": 42,
   "id": "883ed27b-c076-4c30-87fc-a16c4ec707b1",
   "metadata": {},
   "outputs": [],
   "source": [
    "with open('molecules_xyz.txt', 'r') as source_file:\n",
    "    # Lire le contenu du fichier source ligne par ligne\n",
    "    lines = source_file.readlines()\n",
    "    \n",
    "    # Extraire les lignes souhaitées\n",
    "    extracted_lines = lines[69:79]  # Exemple : extraire les lignes 3 à 5\n",
    "    \n",
    "# Ouvrir le fichier de destination en écriture\n",
    "with open('furan.txt', 'w') as destination_file:\n",
    "    # Écrire les lignes extraites dans le fichier de destination\n",
    "    for line in extracted_lines:\n",
    "        destination_file.write(line)"
   ]
  },
  {
   "cell_type": "markdown",
   "id": "f225baff-289f-46b6-922b-979b1c99e38b",
   "metadata": {},
   "source": [
    "####  Réprésentation de la molécule avec py3Dmol"
   ]
  },
  {
   "cell_type": "code",
   "execution_count": 43,
   "id": "f4762fec-1dbf-47f2-8348-90fb67e20cc5",
   "metadata": {},
   "outputs": [
    {
     "name": "stdout",
     "output_type": "stream",
     "text": [
      "System: uname_result(system='Linux', node='sharon-Latitude-5480', release='6.8.0-49-generic', version='#49~22.04.1-Ubuntu SMP PREEMPT_DYNAMIC Wed Nov  6 17:42:15 UTC 2', machine='x86_64')  Threads 4\n",
      "Python 3.11.7 (main, Dec 15 2023, 18:12:31) [GCC 11.2.0]\n",
      "numpy 1.26.4  scipy 1.11.4  h5py 3.9.0\n",
      "Date: Sat Feb 15 15:51:55 2025\n",
      "PySCF version 2.7.0\n",
      "PySCF path  /home/sharon/anaconda3/lib/python3.11/site-packages/pyscf\n",
      "\n",
      "[CONFIG] conf_file None\n",
      "[INPUT] verbose = 4\n",
      "[INPUT] num. atoms = 9\n",
      "[INPUT] num. electrons = 36\n",
      "[INPUT] charge = 0\n",
      "[INPUT] spin (= nelec alpha-beta = 2S) = 0\n",
      "[INPUT] symmetry True subgroup None\n",
      "[INPUT] Mole.unit = angstrom\n",
      "[INPUT] Symbol           X                Y                Z      unit          X                Y                Z       unit  Magmom\n",
      "[INPUT]  1 O      1.101400000000   0.026700000000   0.304100000000 AA    2.081344353596   0.050455687526   0.574665714480 Bohr   0.0\n",
      "[INPUT]  2 C      0.600900000000   0.115700000000  -0.976700000000 AA    1.135536428251   0.218641312612  -1.845695505863 Bohr   0.0\n",
      "[INPUT]  3 H      1.342700000000   0.221300000000  -1.762000000000 AA    2.537335267454   0.418196391366  -3.329697431484 Bohr   0.0\n",
      "[INPUT]  4 C     -0.769900000000   0.047300000000  -0.956500000000 AA   -1.454900143303   0.089384045692  -1.807523038146 Bohr   0.0\n",
      "[INPUT]  5 H     -1.451400000000   0.088800000000  -1.800700000000 AA   -2.742748497194   0.167807679861  -3.402829832504 Bohr   0.0\n",
      "[INPUT]  6 C     -1.148500000000  -0.093700000000   0.426800000000 AA   -2.170350454063  -0.177067337872   0.806535109964 Bohr   0.0\n",
      "[INPUT]  7 H     -2.163900000000  -0.176300000000   0.802500000000 AA   -4.089178360946  -0.333158715761   1.516505214963 Bohr   0.0\n",
      "[INPUT]  8 C      0.019400000000  -0.100700000000   1.148000000000 AA    0.036660686817  -0.190295420744   2.169405591001 Bohr   0.0\n",
      "[INPUT]  9 H      0.258000000000  -0.182600000000   2.203700000000 AA    0.487549340138  -0.345063990346   4.164389460704 Bohr   0.0\n",
      "\n",
      "nuclear repulsion = 159.424124268039\n",
      "point group symmetry = C1\n",
      "symmetry origin: [0. 0. 0.]\n",
      "symmetry axis x: [1. 0. 0.]\n",
      "symmetry axis y: [0. 1. 0.]\n",
      "symmetry axis z: [0. 0. 1.]\n",
      "num. orbitals of irrep A = 53\n",
      "number of shells = 33\n",
      "number of NR pGTOs = 126\n",
      "number of NR cGTOs = 53\n",
      "basis = 6-31g\n",
      "ecp = {}\n",
      "CPU time:       107.79\n"
     ]
    },
    {
     "data": {
      "application/3dmoljs_load.v0": "<div id=\"3dmolviewer_1739631115876973\"  style=\"position: relative; width: 300px; height: 300px;\">\n        <p id=\"3dmolwarning_1739631115876973\" style=\"background-color:#ffcccc;color:black\">3Dmol.js failed to load for some reason.  Please check your browser console for error messages.<br></p>\n        </div>\n<script>\n\nvar loadScriptAsync = function(uri){\n  return new Promise((resolve, reject) => {\n    //this is to ignore the existence of requirejs amd\n    var savedexports, savedmodule;\n    if (typeof exports !== 'undefined') savedexports = exports;\n    else exports = {}\n    if (typeof module !== 'undefined') savedmodule = module;\n    else module = {}\n\n    var tag = document.createElement('script');\n    tag.src = uri;\n    tag.async = true;\n    tag.onload = () => {\n        exports = savedexports;\n        module = savedmodule;\n        resolve();\n    };\n  var firstScriptTag = document.getElementsByTagName('script')[0];\n  firstScriptTag.parentNode.insertBefore(tag, firstScriptTag);\n});\n};\n\nif(typeof $3Dmolpromise === 'undefined') {\n$3Dmolpromise = null;\n  $3Dmolpromise = loadScriptAsync('https://cdnjs.cloudflare.com/ajax/libs/3Dmol/2.4.2/3Dmol-min.js');\n}\n\nvar viewer_1739631115876973 = null;\nvar warn = document.getElementById(\"3dmolwarning_1739631115876973\");\nif(warn) {\n    warn.parentNode.removeChild(warn);\n}\n$3Dmolpromise.then(function() {\nviewer_1739631115876973 = $3Dmol.createViewer(document.getElementById(\"3dmolviewer_1739631115876973\"),{backgroundColor:\"white\"});\nviewer_1739631115876973.zoomTo();\n\tviewer_1739631115876973.addModel(\"9\\nXYZ from PySCF\\nO           1.10140        0.02670        0.30410\\nC           0.60090        0.11570       -0.97670\\nH           1.34270        0.22130       -1.76200\\nC          -0.76990        0.04730       -0.95650\\nH          -1.45140        0.08880       -1.80070\\nC          -1.14850       -0.09370        0.42680\\nH          -2.16390       -0.17630        0.80250\\nC           0.01940       -0.10070        1.14800\\nH           0.25800       -0.18260        2.20370\",\"xyz\");\n\tviewer_1739631115876973.setStyle({\"stick\": {}});\n\tviewer_1739631115876973.zoomTo();\nviewer_1739631115876973.render();\n});\n</script>",
      "text/html": [
       "<div id=\"3dmolviewer_1739631115876973\"  style=\"position: relative; width: 300px; height: 300px;\">\n",
       "        <p id=\"3dmolwarning_1739631115876973\" style=\"background-color:#ffcccc;color:black\">3Dmol.js failed to load for some reason.  Please check your browser console for error messages.<br></p>\n",
       "        </div>\n",
       "<script>\n",
       "\n",
       "var loadScriptAsync = function(uri){\n",
       "  return new Promise((resolve, reject) => {\n",
       "    //this is to ignore the existence of requirejs amd\n",
       "    var savedexports, savedmodule;\n",
       "    if (typeof exports !== 'undefined') savedexports = exports;\n",
       "    else exports = {}\n",
       "    if (typeof module !== 'undefined') savedmodule = module;\n",
       "    else module = {}\n",
       "\n",
       "    var tag = document.createElement('script');\n",
       "    tag.src = uri;\n",
       "    tag.async = true;\n",
       "    tag.onload = () => {\n",
       "        exports = savedexports;\n",
       "        module = savedmodule;\n",
       "        resolve();\n",
       "    };\n",
       "  var firstScriptTag = document.getElementsByTagName('script')[0];\n",
       "  firstScriptTag.parentNode.insertBefore(tag, firstScriptTag);\n",
       "});\n",
       "};\n",
       "\n",
       "if(typeof $3Dmolpromise === 'undefined') {\n",
       "$3Dmolpromise = null;\n",
       "  $3Dmolpromise = loadScriptAsync('https://cdnjs.cloudflare.com/ajax/libs/3Dmol/2.4.2/3Dmol-min.js');\n",
       "}\n",
       "\n",
       "var viewer_1739631115876973 = null;\n",
       "var warn = document.getElementById(\"3dmolwarning_1739631115876973\");\n",
       "if(warn) {\n",
       "    warn.parentNode.removeChild(warn);\n",
       "}\n",
       "$3Dmolpromise.then(function() {\n",
       "viewer_1739631115876973 = $3Dmol.createViewer(document.getElementById(\"3dmolviewer_1739631115876973\"),{backgroundColor:\"white\"});\n",
       "viewer_1739631115876973.zoomTo();\n",
       "\tviewer_1739631115876973.addModel(\"9\\nXYZ from PySCF\\nO           1.10140        0.02670        0.30410\\nC           0.60090        0.11570       -0.97670\\nH           1.34270        0.22130       -1.76200\\nC          -0.76990        0.04730       -0.95650\\nH          -1.45140        0.08880       -1.80070\\nC          -1.14850       -0.09370        0.42680\\nH          -2.16390       -0.17630        0.80250\\nC           0.01940       -0.10070        1.14800\\nH           0.25800       -0.18260        2.20370\",\"xyz\");\n",
       "\tviewer_1739631115876973.setStyle({\"stick\": {}});\n",
       "\tviewer_1739631115876973.zoomTo();\n",
       "viewer_1739631115876973.render();\n",
       "});\n",
       "</script>"
      ]
     },
     "metadata": {},
     "output_type": "display_data"
    }
   ],
   "source": [
    "with open('furan.txt', 'r') as file:\n",
    "    lines = file.readlines()[1:] \n",
    "    mol_xyz = ''.join(lines).strip()\n",
    "\n",
    "mol = gto.M(\n",
    "    atom=mol_xyz, \n",
    "    basis=\"6-31g\", \n",
    "    verbose=4,\n",
    "    charge=0,      # 0 par défaut\n",
    "    spin=0,        # 0 par défaut, défini comme (n_up - n_down)\n",
    "    symmetry=True, # False par défaut\n",
    ")\n",
    "\n",
    "import py3Dmol\n",
    "# 3D representation\n",
    "xyz_view = py3Dmol.view(width=300,height=300)\n",
    "xyz_view.addModel(mol.tostring(format=\"xyz\"),'xyz')\n",
    "xyz_view.setStyle({'stick':{}})\n",
    "xyz_view.zoomTo()\n",
    "xyz_view.show()"
   ]
  },
  {
   "cell_type": "code",
   "execution_count": 39,
   "id": "208d4102-a17a-4c28-a654-49f5d927b60c",
   "metadata": {},
   "outputs": [
    {
     "data": {
      "text/plain": [
       "<pyscf.gto.mole.Mole at 0x7a0b10b74390>"
      ]
     },
     "execution_count": 39,
     "metadata": {},
     "output_type": "execute_result"
    }
   ],
   "source": [
    "# creation de l'objet mol. construit l'object molécule\n",
    "mol.build()"
   ]
  },
  {
   "cell_type": "markdown",
   "id": "81bb64c7-3766-4c39-9f86-e2eade175922",
   "metadata": {},
   "source": [
    "####  Imprimons les différentes propriétés physico-chimique de la molécule"
   ]
  },
  {
   "cell_type": "code",
   "execution_count": 40,
   "id": "d17e6133-748c-4b62-ac4c-643495fc8530",
   "metadata": {},
   "outputs": [
    {
     "name": "stdout",
     "output_type": "stream",
     "text": [
      "Le nombre total d'électrons est 36 et le nombre total d'électrons (alpha, béta) est (18, 18)\n",
      "Le nombre d'orbitales atomiques, dans la base 6-31g, est 53\n",
      "L'énergie nucléaire vaut 159.42412426803912 Hartrees\n"
     ]
    }
   ],
   "source": [
    "print(f'Le nombre total d\\'électrons est {mol.nelectron} et le nombre total d\\'électrons (alpha, béta) est {mol.nelec}')\n",
    "print(f'Le nombre d\\'orbitales atomiques, dans la base {mol.basis}, est {mol.nao_nr()}')\n",
    "print(f'L\\'énergie nucléaire vaut {mol.energy_nuc()} Hartrees')"
   ]
  },
  {
   "cell_type": "code",
   "execution_count": 48,
   "id": "66f4121c-7eba-493f-9436-6fa8f73afea2",
   "metadata": {},
   "outputs": [],
   "source": [
    "from rdkit import Chem\n",
    "smiles = \" [2H]C1(C(C(OC1([2H])[2H])([2H])[2H])([2H])[2H])[2H]\" \n",
    "mol_rdkit = Chem.MolFromSmiles(smiles)"
   ]
  },
  {
   "cell_type": "code",
   "execution_count": 74,
   "id": "f819a775-6b11-4ab4-b55a-43844c6731a6",
   "metadata": {},
   "outputs": [
    {
     "data": {
      "text/html": [
       "<div>\n",
       "<style scoped>\n",
       "    .dataframe tbody tr th:only-of-type {\n",
       "        vertical-align: middle;\n",
       "    }\n",
       "\n",
       "    .dataframe tbody tr th {\n",
       "        vertical-align: top;\n",
       "    }\n",
       "\n",
       "    .dataframe thead th {\n",
       "        text-align: right;\n",
       "    }\n",
       "</style>\n",
       "<table border=\"1\" class=\"dataframe\">\n",
       "  <thead>\n",
       "    <tr style=\"text-align: right;\">\n",
       "      <th></th>\n",
       "      <th>valeurs</th>\n",
       "      <th>valeurs_pupchem</th>\n",
       "    </tr>\n",
       "    <tr>\n",
       "      <th>properties</th>\n",
       "      <th></th>\n",
       "      <th></th>\n",
       "    </tr>\n",
       "  </thead>\n",
       "  <tbody>\n",
       "    <tr>\n",
       "      <th>Poids_Mol</th>\n",
       "      <td>80.155814</td>\n",
       "      <td>68.070</td>\n",
       "    </tr>\n",
       "    <tr>\n",
       "      <th>poids_mol_moy</th>\n",
       "      <td>80.107729</td>\n",
       "      <td>68.075</td>\n",
       "    </tr>\n",
       "    <tr>\n",
       "      <th>LogP</th>\n",
       "      <td>0.796800</td>\n",
       "      <td>1.340</td>\n",
       "    </tr>\n",
       "    <tr>\n",
       "      <th>TPSA</th>\n",
       "      <td>9.230000</td>\n",
       "      <td>13.140</td>\n",
       "    </tr>\n",
       "    <tr>\n",
       "      <th>hbd</th>\n",
       "      <td>0.000000</td>\n",
       "      <td>0.000</td>\n",
       "    </tr>\n",
       "    <tr>\n",
       "      <th>hba</th>\n",
       "      <td>1.000000</td>\n",
       "      <td>1.000</td>\n",
       "    </tr>\n",
       "  </tbody>\n",
       "</table>\n",
       "</div>"
      ],
      "text/plain": [
       "                 valeurs  valeurs_pupchem\n",
       "properties                               \n",
       "Poids_Mol      80.155814           68.070\n",
       "poids_mol_moy  80.107729           68.075\n",
       "LogP            0.796800            1.340\n",
       "TPSA            9.230000           13.140\n",
       "hbd             0.000000            0.000\n",
       "hba             1.000000            1.000"
      ]
     },
     "execution_count": 74,
     "metadata": {},
     "output_type": "execute_result"
    }
   ],
   "source": [
    "import os\n",
    "import pandas as pd\n",
    "from rdkit.Chem import Descriptors\n",
    "properties = ['Poids_Mol','poids_mol_moy', 'LogP', 'TPSA','hbd','hba']\n",
    "\n",
    "# Calcul des descripteurs\n",
    "#poid_moleculaire\n",
    "molwt = Descriptors.MolWt(mol_rdkit)\n",
    "#poid moleculaire moyen\n",
    "molwtE = Descriptors.ExactMolWt(mol_rdkit)\n",
    "# solubilite\n",
    "logp = Descriptors.MolLogP(mol_rdkit)\n",
    "#polarite\n",
    "tpsa = Descriptors.TPSA(mol_rdkit)\n",
    "#nombre de liasons donneurs d'H\n",
    "hbd = Descriptors.NumHDonors(mol_rdkit)\n",
    "#nombre de liason accepteurs d'H\n",
    "hba = Descriptors.NumHAcceptors(mol_rdkit)\n",
    "\n",
    "# Ajout des propriétés à la liste de données\n",
    "data=[molwt , molwtE, logp, tpsa,hbd,hba]\n",
    "data1=[68.07 , 68.075  ,1.34, 13.14 ,0,1]\n",
    "\n",
    "df_HF = pd.DataFrame({\"properties \":properties, \n",
    "                      'valeurs':data,\n",
    "                      \"valeurs_pupchem\":data1})\n",
    "df_HF.set_index(\"properties \", inplace=True)### <a id='toc1_3_'></a>[CONSIGNE](#toc0_)\n",
    "\n",
    "df_HF"
   ]
  },
  {
   "cell_type": "markdown",
   "id": "2127ecf3-91e5-4dc0-9fc9-b2a5772be323",
   "metadata": {},
   "source": [
    "Les informations présentes dans le DataFrame pandas sont: \n",
    "\n",
    "* `Poids_Mol` : Il s'agit du `poids moléculaire` de la molécule, exprimé en grammes par mole `(g/mol)`. C'est la masse totale de la molécule qui est de `80.155814\tg/mol` qui est equivalent a celle de `pubchem` estimé a  `68.070 g/mol`\n",
    "\n",
    "* `poids_mol_moy` : Il s'agit du `poids moléculaire moyen`, calculé en prenant en compte la distribution isotopique des atomes donc la valeurs est de `80.107729g\\mol` . qui est légèrement différent du poids moléculaire brute.\n",
    "\n",
    "* `LogP` : Il s'agit du coefficient de partage `octanol/eau (logP)` de la molécule. Un coefficient de partage `octanol/eau (logP)` de `0.796800\t` suggère une légère `hydrophobicité`(tendance d'une substance à repousser ou à éviter l'eau) pour la molécule. Qui est l'aptitude de la molécule à traverser les membranes biologiques\n",
    "\n",
    "* `TPSA` : Il s'agit de la surface polaire totale `Total Polar Surface Area)` de la molécule, exprimée en `Å² (angstroms carrés)`. C'est une mesure de la surface de la molécule qui est polaire et capable d'interactions avec des solvants polaires sa valeurs ici est de `12.89Å²`.\n",
    "\n",
    "* `hbd` : Il s'agit du nombre de donneurs de liaisons hydrogène `(hydrogen bond donors)` dans la molécule. Cela compte le nombre d'atomes d'hydrogène liés à des atomes d'oxygène, d'azote ou de soufre, qui peuvent former des liaisons hydrogène étant donné que la dans le cas de la molécule `1,3-Thiazole` les atomes d'hydrogènes  n'ont que des liaisons  avec les atomes de carbones en conséuent on a une valeurs `hba= 0`.\n",
    "\n",
    "* `hba` : Il s'agit du nombre d'accepteurs de liaisons hydrogène `(hydrogen bond acceptors)` dans la molécule. Cela compte le nombre d'atomes d'oxygène, d'azote ou de soufre dans la molécule, qui peuvent accepter des liaisons hydrogène,dans notre molécule nous uniquement un atome de soufre et un atome d'azote d'ou la valeur de `hba=2`."
   ]
  },
  {
   "cell_type": "markdown",
   "id": "0ef8904b-98f5-4799-b7e3-6bc8e50cbe64",
   "metadata": {},
   "source": [
    "##  Calcul de l'énergie en utilisant la DFT"
   ]
  },
  {
   "cell_type": "code",
   "execution_count": 75,
   "id": "a102dcff-ed86-4987-9cbe-70f63559fda5",
   "metadata": {},
   "outputs": [
    {
     "name": "stdout",
     "output_type": "stream",
     "text": [
      "\n",
      "\n",
      "******** <class 'pyscf.dft.rks.RKS'> ********\n",
      "method = RKS\n",
      "initial guess = minao\n",
      "damping factor = 0\n",
      "level_shift factor = 0\n",
      "DIIS = <class 'pyscf.scf.diis.CDIIS'>\n",
      "diis_start_cycle = 1\n",
      "diis_space = 8\n",
      "diis_damp = 0\n",
      "SCF conv_tol = 1e-09\n",
      "SCF conv_tol_grad = None\n",
      "SCF max_cycles = 50\n",
      "direct_scf = True\n",
      "direct_scf_tol = 1e-13\n",
      "chkfile to save SCF result = /tmp/tmpi5slfp7b\n",
      "max_memory 4000 MB (current use 485 MB)\n",
      "XC library pyscf.dft.libxc version 6.1.0\n",
      "    S. Lehtola, C. Steigemann, M. J.T. Oliveira, and M. A.L. Marques.,  SoftwareX 7, 1–5 (2018)\n",
      "XC functionals = B3LYP\n",
      "    P. J. Stephens, F. J. Devlin, C. F. Chabalowski, and M. J. Frisch.,  J. Phys. Chem. 98, 11623 (1994)\n",
      "radial grids: \n",
      "    Treutler-Ahlrichs [JCP 102, 346 (1995); DOI:10.1063/1.469408] (M4) radial grids\n",
      "    \n",
      "becke partition: Becke, JCP 88, 2547 (1988); DOI:10.1063/1.454033\n",
      "pruning grids: <function nwchem_prune at 0x7a0b3c127a60>\n",
      "grids dens level: 3\n",
      "symmetrized grids: True\n",
      "atomic radii adjust function: <function treutler_atomic_radii_adjust at 0x7a0b3c1279c0>\n",
      "small_rho_cutoff = 1e-07\n",
      "Set gradient conv threshold to 3.16228e-05\n",
      "Initial guess from minao.\n",
      "tot grids = 109792\n",
      "init E= -230.759227253155\n",
      "  HOMO = -0.250787527652539  LUMO = -0.061923397307381\n",
      "cycle= 1 E= -229.907525676967  delta_E= 0.852  |g|= 0.434  |ddm|= 3.04\n",
      "  HOMO = -0.20856399928899  LUMO = 0.0479692821632718\n",
      "cycle= 2 E= -229.862645179553  delta_E= 0.0449  |g|= 0.663  |ddm|= 0.875\n",
      "  HOMO = -0.221800588421415  LUMO = 0.0163472780342102\n",
      "cycle= 3 E= -229.949211947231  delta_E= -0.0866  |g|= 0.0898  |ddm|= 0.489\n",
      "  HOMO = -0.232394091676213  LUMO = 0.00975615913690294\n",
      "cycle= 4 E= -229.950705941374  delta_E= -0.00149  |g|= 0.0414  |ddm|= 0.117\n",
      "  HOMO = -0.23365377690657  LUMO = 0.00784750001235238\n",
      "cycle= 5 E= -229.951095914888  delta_E= -0.00039  |g|= 0.0139  |ddm|= 0.0522\n",
      "  HOMO = -0.231861340045759  LUMO = 0.00961045580987294\n",
      "cycle= 6 E= -229.951150472683  delta_E= -5.46e-05  |g|= 0.000593  |ddm|= 0.0152\n",
      "  HOMO = -0.231924090468432  LUMO = 0.00953651737735874\n",
      "cycle= 7 E= -229.951150577598  delta_E= -1.05e-07  |g|= 7.7e-05  |ddm|= 0.00121\n",
      "  HOMO = -0.231922255252775  LUMO = 0.00953932224066759\n",
      "cycle= 8 E= -229.951150579549  delta_E= -1.95e-09  |g|= 1.06e-05  |ddm|= 0.000151\n",
      "  HOMO = -0.231921693996157  LUMO = 0.00953911792296351\n",
      "cycle= 9 E= -229.951150579573  delta_E= -2.45e-11  |g|= 5.24e-06  |ddm|= 1.76e-05\n",
      "  HOMO = -0.231921533884414  LUMO = 0.00953926458489929\n",
      "Extra cycle  E= -229.951150579556  delta_E= 1.71e-11  |g|= 9.49e-06  |ddm|= 1.47e-05\n",
      "converged SCF energy = -229.951150579556\n"
     ]
    }
   ],
   "source": [
    "# Initialize the dictionary to store the energies and reference values\n",
    "from pyscf import dft\n",
    "import time\n",
    "\n",
    "start = time.time()\n",
    "mdf=dft.RKS(mol, xc=\"B3LYP\").run()\n",
    "mdf_time1 = time.time() - start"
   ]
  },
  {
   "cell_type": "code",
   "execution_count": 76,
   "id": "8bd41193-e160-4d88-b404-81fdea38f73e",
   "metadata": {},
   "outputs": [
    {
     "name": "stdout",
     "output_type": "stream",
     "text": [
      "\n",
      "\n",
      "******** <class 'pyscf.dft.rks.RKS'> ********\n",
      "method = RKS\n",
      "initial guess = minao\n",
      "damping factor = 0\n",
      "level_shift factor = 0\n",
      "DIIS = <class 'pyscf.scf.diis.CDIIS'>\n",
      "diis_start_cycle = 1\n",
      "diis_space = 8\n",
      "diis_damp = 0\n",
      "SCF conv_tol = 1e-09\n",
      "SCF conv_tol_grad = None\n",
      "SCF max_cycles = 50\n",
      "direct_scf = True\n",
      "direct_scf_tol = 1e-13\n",
      "chkfile to save SCF result = /tmp/tmp_0ws6aca\n",
      "max_memory 4000 MB (current use 486 MB)\n",
      "XC library pyscf.dft.libxc version 6.1.0\n",
      "    S. Lehtola, C. Steigemann, M. J.T. Oliveira, and M. A.L. Marques.,  SoftwareX 7, 1–5 (2018)\n",
      "XC functionals = PBE\n",
      "    J. P. Perdew, K. Burke, and M. Ernzerhof.,  Phys. Rev. Lett. 77, 3865 (1996)\n",
      "    J. P. Perdew, K. Burke, and M. Ernzerhof.,  Phys. Rev. Lett. 78, 1396 (1997)\n",
      "    J. P. Perdew, K. Burke, and M. Ernzerhof.,  Phys. Rev. Lett. 77, 3865 (1996)\n",
      "    J. P. Perdew, K. Burke, and M. Ernzerhof.,  Phys. Rev. Lett. 78, 1396 (1997)\n",
      "radial grids: \n",
      "    Treutler-Ahlrichs [JCP 102, 346 (1995); DOI:10.1063/1.469408] (M4) radial grids\n",
      "    \n",
      "becke partition: Becke, JCP 88, 2547 (1988); DOI:10.1063/1.454033\n",
      "pruning grids: <function nwchem_prune at 0x7a0b3c127a60>\n",
      "grids dens level: 3\n",
      "symmetrized grids: True\n",
      "atomic radii adjust function: <function treutler_atomic_radii_adjust at 0x7a0b3c1279c0>\n",
      "small_rho_cutoff = 1e-07\n",
      "Set gradient conv threshold to 3.16228e-05\n",
      "Initial guess from minao.\n",
      "tot grids = 109792\n",
      "init E= -230.352824410015\n",
      "  HOMO = -0.259371770934226  LUMO = -0.0830061160212907\n",
      "cycle= 1 E= -229.625162368934  delta_E= 0.728  |g|= 0.475  |ddm|= 3.08\n",
      "  HOMO = -0.154077214734294  LUMO = 0.0375547660237419\n",
      "cycle= 2 E= -229.529373158534  delta_E= 0.0958  |g|= 0.832  |ddm|= 1.18\n",
      "  HOMO = -0.185719169855891  LUMO = -0.00741247543342853\n",
      "cycle= 3 E= -229.674997522513  delta_E= -0.146  |g|= 0.153  |ddm|= 0.712\n",
      "  HOMO = -0.200749279138009  LUMO = -0.0168977260239852\n",
      "cycle= 4 E= -229.679516268827  delta_E= -0.00452  |g|= 0.0583  |ddm|= 0.174\n",
      "  HOMO = -0.202359140253562  LUMO = -0.0195929534306664\n",
      "cycle= 5 E= -229.680248065282  delta_E= -0.000732  |g|= 0.0234  |ddm|= 0.0794\n",
      "  HOMO = -0.200259473931005  LUMO = -0.017473293936858\n",
      "cycle= 6 E= -229.680408852254  delta_E= -0.000161  |g|= 0.00197  |ddm|= 0.0291\n",
      "  HOMO = -0.200337913106957  LUMO = -0.0175993766884281\n",
      "cycle= 7 E= -229.680409962525  delta_E= -1.11e-06  |g|= 0.000155  |ddm|= 0.00329\n",
      "  HOMO = -0.200342703233078  LUMO = -0.0175985071363576\n",
      "cycle= 8 E= -229.680409971605  delta_E= -9.08e-09  |g|= 2.4e-05  |ddm|= 0.000368\n",
      "  HOMO = -0.200343962012163  LUMO = -0.017600121236485\n",
      "cycle= 9 E= -229.680409971732  delta_E= -1.27e-10  |g|= 1.49e-05  |ddm|= 4.48e-05\n",
      "  HOMO = -0.200344193655765  LUMO = -0.0176006445532494\n",
      "Extra cycle  E= -229.680409971375  delta_E= 3.57e-10  |g|= 3.8e-05  |ddm|= 5.38e-05\n",
      "converged SCF energy = -229.680409971375\n"
     ]
    }
   ],
   "source": [
    "# Initialize the dictionary to store the energies and reference values\n",
    "from pyscf import dft\n",
    "\n",
    "start = time.time()\n",
    "mdf=dft.RKS(mol, xc=\"PBE\").run()\n",
    "mdf_time2 = time.time() - start"
   ]
  },
  {
   "cell_type": "code",
   "execution_count": 77,
   "id": "3c9fdde7-4b81-408c-bd87-be837480dd2f",
   "metadata": {},
   "outputs": [
    {
     "name": "stdout",
     "output_type": "stream",
     "text": [
      "\n",
      "\n",
      "******** <class 'pyscf.dft.rks.RKS'> ********\n",
      "method = RKS\n",
      "initial guess = minao\n",
      "damping factor = 0\n",
      "level_shift factor = 0\n",
      "DIIS = <class 'pyscf.scf.diis.CDIIS'>\n",
      "diis_start_cycle = 1\n",
      "diis_space = 8\n",
      "diis_damp = 0\n",
      "SCF conv_tol = 1e-09\n",
      "SCF conv_tol_grad = None\n",
      "SCF max_cycles = 50\n",
      "direct_scf = True\n",
      "direct_scf_tol = 1e-13\n",
      "chkfile to save SCF result = /tmp/tmpk5q0iyqx\n",
      "max_memory 4000 MB (current use 485 MB)\n",
      "XC library pyscf.dft.libxc version 6.1.0\n",
      "    S. Lehtola, C. Steigemann, M. J.T. Oliveira, and M. A.L. Marques.,  SoftwareX 7, 1–5 (2018)\n",
      "XC functionals = TPSS\n",
      "    J. Tao, J. P. Perdew, V. N. Staroverov, and G. E. Scuseria.,  Phys. Rev. Lett. 91, 146401 (2003)\n",
      "    J. P. Perdew, J. Tao, V. N. Staroverov, and G. E. Scuseria.,  J. Chem. Phys. 120, 6898 (2004)\n",
      "    J. Tao, J. P. Perdew, V. N. Staroverov, and G. E. Scuseria.,  Phys. Rev. Lett. 91, 146401 (2003)\n",
      "    J. P. Perdew, J. Tao, V. N. Staroverov, and G. E. Scuseria.,  J. Chem. Phys. 120, 6898 (2004)\n",
      "radial grids: \n",
      "    Treutler-Ahlrichs [JCP 102, 346 (1995); DOI:10.1063/1.469408] (M4) radial grids\n",
      "    \n",
      "becke partition: Becke, JCP 88, 2547 (1988); DOI:10.1063/1.454033\n",
      "pruning grids: <function nwchem_prune at 0x7a0b3c127a60>\n",
      "grids dens level: 3\n",
      "symmetrized grids: True\n",
      "atomic radii adjust function: <function treutler_atomic_radii_adjust at 0x7a0b3c1279c0>\n",
      "small_rho_cutoff = 1e-07\n",
      "Set gradient conv threshold to 3.16228e-05\n",
      "Initial guess from minao.\n",
      "tot grids = 109792\n",
      "init E= -230.666421227811\n",
      "  HOMO = -0.261004935441443  LUMO = -0.0811009934499997\n",
      "cycle= 1 E= -229.945886908282  delta_E= 0.721  |g|= 0.469  |ddm|= 3.07\n",
      "  HOMO = -0.160466065449705  LUMO = 0.0370299591312719\n",
      "cycle= 2 E= -229.85837114154  delta_E= 0.0875  |g|= 0.807  |ddm|= 1.09\n",
      "  HOMO = -0.187322701095107  LUMO = -0.00417646507680324\n",
      "cycle= 3 E= -229.992171789978  delta_E= -0.134  |g|= 0.15  |ddm|= 0.672\n",
      "  HOMO = -0.201402820762063  LUMO = -0.0127094723152204\n",
      "cycle= 4 E= -229.99648807441  delta_E= -0.00432  |g|= 0.061  |ddm|= 0.184\n",
      "  HOMO = -0.203686667603124  LUMO = -0.0158488290660385\n",
      "cycle= 5 E= -229.997414036021  delta_E= -0.000926  |g|= 0.0183  |ddm|= 0.079\n",
      "  HOMO = -0.201541858084311  LUMO = -0.0137384654581819\n",
      "cycle= 6 E= -229.997514264239  delta_E= -0.0001  |g|= 0.00147  |ddm|= 0.0241\n",
      "  HOMO = -0.201602240135375  LUMO = -0.0138336490718783\n",
      "cycle= 7 E= -229.99751490731  delta_E= -6.43e-07  |g|= 0.00012  |ddm|= 0.00262\n",
      "  HOMO = -0.201604516117318  LUMO = -0.0138315469059377\n",
      "cycle= 8 E= -229.99751491259  delta_E= -5.28e-09  |g|= 1.53e-05  |ddm|= 0.000271\n",
      "  HOMO = -0.201605055501064  LUMO = -0.0138324144553038\n",
      "cycle= 9 E= -229.997514912607  delta_E= -1.68e-11  |g|= 1.4e-05  |ddm|= 3.33e-05\n",
      "  HOMO = -0.201605091304315  LUMO = -0.0138325631477351\n",
      "Extra cycle  E= -229.99751491233  delta_E= 2.78e-10  |g|= 3.35e-05  |ddm|= 4.95e-05\n",
      "converged SCF energy = -229.99751491233\n"
     ]
    }
   ],
   "source": [
    "# Initialize the dictionary to store the energies and reference values\n",
    "from pyscf import dft\n",
    "\n",
    "start = time.time()\n",
    "mdf=dft.RKS(mol, xc=\"TPSS\").run()\n",
    "mdf_time3 = time.time() - start"
   ]
  },
  {
   "cell_type": "code",
   "execution_count": 83,
   "id": "b59d335f-a602-4808-b1bf-ed3c9f4611a6",
   "metadata": {},
   "outputs": [
    {
     "name": "stdout",
     "output_type": "stream",
     "text": [
      "  Fonctionnelle  Énergie (Hartree)  Temps de calcul (s)\n",
      "0         B3LYP        -229.951151             5.592599\n",
      "1           PBE        -229.680410             6.084183\n",
      "2          TPSS        -229.997515             8.791888\n"
     ]
    }
   ],
   "source": [
    "import os\n",
    "import pandas as pd\n",
    "# Définir les énergies et les temps de calcul pour chaque fonctionnelle DFT\n",
    "energies = {\n",
    "    'Fonctionnelle': ['B3LYP', 'PBE', 'TPSS'],\n",
    "    'Énergie (Hartree)': [-229.951150579556, -229.680409971373, -229.99751491233],\n",
    "    'Temps de calcul (s)': [mdf_time1, mdf_time2, mdf_time3]  # Remplacez mdf_time par les valeurs réelles\n",
    "}\n",
    "\n",
    "dft_energies = pd.DataFrame({\"properties \":properties, \n",
    "                      'valeurs':data,\n",
    "                      \"valeurs_pupchem\":data1})\n",
    "dft_energies.set_index(\"properties \", inplace=True)\n",
    "# Créer un DataFrame à partir du dictionnaire\n",
    "dft_energies = pd.DataFrame(energies)\n",
    "\n",
    "# Afficher le tableau\n",
    "print(dft_energies)"
   ]
  },
  {
   "cell_type": "markdown",
   "id": "48fa96c9-1161-4831-a58d-02e7f7a9aa31",
   "metadata": {},
   "source": [
    "## RHF"
   ]
  },
  {
   "cell_type": "code",
   "execution_count": 79,
   "id": "8b58121f-63fe-4dd8-a8e6-7fc6a65f6dd7",
   "metadata": {},
   "outputs": [],
   "source": [
    "from pyscf import scf \n",
    "from pyscf.data.nist import HARTREE2EV as au2ev \n",
    "import pandas as pd"
   ]
  },
  {
   "cell_type": "code",
   "execution_count": 71,
   "id": "ebed2c45-33a5-4a6a-9aec-d09e8846f55c",
   "metadata": {},
   "outputs": [
    {
     "name": "stdout",
     "output_type": "stream",
     "text": [
      "\n",
      "\n",
      "******** <class 'pyscf.scf.hf.RHF'> ********\n",
      "method = RHF\n",
      "initial guess = minao\n",
      "damping factor = 0\n",
      "level_shift factor = 0\n",
      "DIIS = <class 'pyscf.scf.diis.CDIIS'>\n",
      "diis_start_cycle = 1\n",
      "diis_space = 8\n",
      "diis_damp = 0\n",
      "SCF conv_tol = 1e-09\n",
      "SCF conv_tol_grad = None\n",
      "SCF max_cycles = 50\n",
      "direct_scf = True\n",
      "direct_scf_tol = 1e-13\n",
      "chkfile to save SCF result = /tmp/tmpy0f4fzdz\n",
      "max_memory 4000 MB (current use 485 MB)\n",
      "Set gradient conv threshold to 3.16228e-05\n",
      "Initial guess from minao.\n",
      "init E= -229.893458838602\n",
      "  HOMO = -0.178597272652802  LUMO = 0.0711546430549261\n",
      "cycle= 1 E= -228.461538337727  delta_E= 1.43  |g|= 0.419  |ddm|= 2.89\n",
      "  HOMO = -0.357654665435535  LUMO = 0.129753328497563\n",
      "cycle= 2 E= -228.512479066367  delta_E= -0.0509  |g|= 0.197  |ddm|= 0.714\n",
      "  HOMO = -0.323291264429016  LUMO = 0.150466700495064\n",
      "cycle= 3 E= -228.520621682751  delta_E= -0.00814  |g|= 0.0629  |ddm|= 0.213\n",
      "  HOMO = -0.319758497208221  LUMO = 0.15709580726888\n",
      "cycle= 4 E= -228.521644969222  delta_E= -0.00102  |g|= 0.0146  |ddm|= 0.0974\n",
      "  HOMO = -0.322757912355305  LUMO = 0.153920406683493\n",
      "cycle= 5 E= -228.521713119204  delta_E= -6.81e-05  |g|= 0.00466  |ddm|= 0.0219\n",
      "  HOMO = -0.322905764448077  LUMO = 0.153806949141444\n",
      "cycle= 6 E= -228.52172090317  delta_E= -7.78e-06  |g|= 0.00141  |ddm|= 0.00674\n",
      "  HOMO = -0.322627680256084  LUMO = 0.154035056354992\n",
      "cycle= 7 E= -228.521722393857  delta_E= -1.49e-06  |g|= 0.000535  |ddm|= 0.00281\n",
      "  HOMO = -0.322653018969316  LUMO = 0.154014320396215\n",
      "cycle= 8 E= -228.521722669772  delta_E= -2.76e-07  |g|= 0.000128  |ddm|= 0.00159\n",
      "  HOMO = -0.322656180431606  LUMO = 0.15401413278234\n",
      "cycle= 9 E= -228.521722685026  delta_E= -1.53e-08  |g|= 2.55e-05  |ddm|= 0.000379\n",
      "  HOMO = -0.32265728336319  LUMO = 0.15401288916006\n",
      "cycle= 10 E= -228.521722685626  delta_E= -6e-10  |g|= 5.02e-06  |ddm|= 7.97e-05\n",
      "  HOMO = -0.322657174498671  LUMO = 0.154012876778131\n",
      "Extra cycle  E= -228.521722685641  delta_E= -1.49e-11  |g|= 2.21e-06  |ddm|= 1.02e-05\n",
      "converged SCF energy = -228.521722685641\n"
     ]
    },
    {
     "data": {
      "text/plain": [
       "-228.52172268564095"
      ]
     },
     "execution_count": 71,
     "metadata": {},
     "output_type": "execute_result"
    }
   ],
   "source": [
    "mf = scf.RHF(mol) # Create a PySCF HF mean-field object\n",
    "mf.x2c().density_fit() # To speed up calculations\n",
    "mf.kernel()"
   ]
  },
  {
   "cell_type": "markdown",
   "id": "beac0e43-5049-4425-9fbc-792422c6fb54",
   "metadata": {},
   "source": [
    "## Post HF"
   ]
  },
  {
   "cell_type": "code",
   "execution_count": 13,
   "id": "e43202e8-a615-49d4-916a-8a3d0350a023",
   "metadata": {},
   "outputs": [],
   "source": [
    "import time\n",
    "from pyscf import scf\n"
   ]
  },
  {
   "cell_type": "code",
   "execution_count": 14,
   "id": "3fd417c8-eb2b-48fb-84ea-12cb7a1ed7cd",
   "metadata": {},
   "outputs": [
    {
     "name": "stdout",
     "output_type": "stream",
     "text": [
      "\n",
      "\n",
      "******** <class 'pyscf.scf.hf.RHF'> ********\n",
      "method = RHF\n",
      "initial guess = minao\n",
      "damping factor = 0\n",
      "level_shift factor = 0\n",
      "DIIS = <class 'pyscf.scf.diis.CDIIS'>\n",
      "diis_start_cycle = 1\n",
      "diis_space = 8\n",
      "diis_damp = 0\n",
      "SCF conv_tol = 1e-09\n",
      "SCF conv_tol_grad = None\n",
      "SCF max_cycles = 50\n",
      "direct_scf = True\n",
      "direct_scf_tol = 1e-13\n",
      "chkfile to save SCF result = /tmp/tmpu0wtgug2\n",
      "max_memory 4000 MB (current use 257 MB)\n",
      "Set gradient conv threshold to 3.16228e-05\n",
      "Initial guess from minao.\n",
      "init E= -229.893458838602\n",
      "  HOMO = -0.178597272652799  LUMO = 0.0711546430549282\n",
      "cycle= 1 E= -228.461538337727  delta_E= 1.43  |g|= 0.419  |ddm|= 2.89\n",
      "  HOMO = -0.357654665435532  LUMO = 0.129753328497564\n",
      "cycle= 2 E= -228.512479066367  delta_E= -0.0509  |g|= 0.197  |ddm|= 0.714\n",
      "  HOMO = -0.323291264429021  LUMO = 0.150466700495057\n",
      "cycle= 3 E= -228.52062168275  delta_E= -0.00814  |g|= 0.0629  |ddm|= 0.213\n",
      "  HOMO = -0.319758497208216  LUMO = 0.157095807268879\n",
      "cycle= 4 E= -228.521644969222  delta_E= -0.00102  |g|= 0.0146  |ddm|= 0.0974\n",
      "  HOMO = -0.322757912355302  LUMO = 0.153920406683486\n",
      "cycle= 5 E= -228.521713119203  delta_E= -6.81e-05  |g|= 0.00466  |ddm|= 0.0219\n",
      "  HOMO = -0.322905764448082  LUMO = 0.153806949141441\n",
      "cycle= 6 E= -228.52172090317  delta_E= -7.78e-06  |g|= 0.00141  |ddm|= 0.00674\n",
      "  HOMO = -0.322627680256085  LUMO = 0.154035056354993\n",
      "cycle= 7 E= -228.521722393856  delta_E= -1.49e-06  |g|= 0.000535  |ddm|= 0.00281\n",
      "  HOMO = -0.322653018969307  LUMO = 0.154014320396206\n",
      "cycle= 8 E= -228.521722669773  delta_E= -2.76e-07  |g|= 0.000128  |ddm|= 0.00159\n",
      "  HOMO = -0.322656180431583  LUMO = 0.154014132782361\n",
      "cycle= 9 E= -228.521722685026  delta_E= -1.53e-08  |g|= 2.55e-05  |ddm|= 0.000379\n",
      "  HOMO = -0.322657283363214  LUMO = 0.154012889160035\n",
      "cycle= 10 E= -228.521722685626  delta_E= -6e-10  |g|= 5.02e-06  |ddm|= 7.97e-05\n",
      "  HOMO = -0.322657174498661  LUMO = 0.15401287677814\n",
      "Extra cycle  E= -228.52172268564  delta_E= -1.41e-11  |g|= 2.21e-06  |ddm|= 1.02e-05\n",
      "converged SCF energy = -228.52172268564\n"
     ]
    }
   ],
   "source": [
    "start = time.time()\n",
    "myhf = scf.RHF(mol).run()\n",
    "myhf_time = time.time() - start "
   ]
  },
  {
   "cell_type": "code",
   "execution_count": 15,
   "id": "1589a137-8d01-41ca-99d2-2eb6f4749ca5",
   "metadata": {},
   "outputs": [
    {
     "name": "stdout",
     "output_type": "stream",
     "text": [
      "\n",
      "******** <class 'pyscf.mp.mp2.MP2'> ********\n",
      "nocc = 18, nmo = 53\n",
      "max_memory 4000 MB (current use 275 MB)\n",
      "E(MP2) = -229.004293590945  E_corr = -0.482570905304997\n",
      "E(SCS-MP2) = -228.995452007022  E_corr = -0.473729321382485\n",
      "E_corr(same-spin) = -0.121564344211744\n",
      "E_corr(oppo-spin) = -0.361006561093253\n",
      "-229.00429359094494\n"
     ]
    }
   ],
   "source": [
    "from pyscf import mp\n",
    "start = time.time()\n",
    "mymp2 = mp.MP2(myhf).run()\n",
    "mymp2_time = time.time() - start +  myhf_time\n",
    "energie1=mymp2.e_tot\n",
    "print(energie1)"
   ]
  },
  {
   "cell_type": "markdown",
   "id": "1e55685c-b5be-465c-b6b2-fd3a6d78b96c",
   "metadata": {},
   "source": [
    "#### <a id='toc1_1_'></a>2.2.3[Calcule du  CCSD avec CC](#toc0_)\n",
    "* La [CC(Coupled_cluster)](https://en.wikipedia.org/wiki/Coupled_cluster) est une méthode perturbative qui améliore l'approximation de Hartree-Fock."
   ]
  },
  {
   "cell_type": "code",
   "execution_count": 16,
   "id": "1205e90c-6812-4daa-a8d9-5a905d8223a2",
   "metadata": {},
   "outputs": [
    {
     "name": "stdout",
     "output_type": "stream",
     "text": [
      "\n",
      "******** <class 'pyscf.cc.ccsd.CCSD'> ********\n",
      "CC2 = 0\n",
      "CCSD nocc = 18, nmo = 53\n",
      "max_cycle = 50\n",
      "direct = 0\n",
      "conv_tol = 1e-07\n",
      "conv_tol_normt = 1e-05\n",
      "diis_space = 6\n",
      "diis_start_cycle = 0\n",
      "diis_start_energy_diff = 1e+09\n",
      "max_memory 4000 MB (current use 286 MB)\n"
     ]
    },
    {
     "name": "stderr",
     "output_type": "stream",
     "text": [
      "<class 'pyscf.cc.ccsd.CCSD'> does not have attributes  converged\n"
     ]
    },
    {
     "name": "stdout",
     "output_type": "stream",
     "text": [
      "Init t2, MP2 energy = -229.004293604105  E_corr(MP2) -0.482570918464576\n",
      "Init E_corr(CCSD) = -0.482570918467117\n",
      "cycle = 1  E_corr(CCSD) = -0.487035903329988  dE = -0.00446498486  norm(t1,t2) = 0.0722545\n",
      "cycle = 2  E_corr(CCSD) = -0.504352445029364  dE = -0.0173165417  norm(t1,t2) = 0.0268194\n",
      "cycle = 3  E_corr(CCSD) = -0.506272390726049  dE = -0.0019199457  norm(t1,t2) = 0.0132836\n",
      "cycle = 4  E_corr(CCSD) = -0.510032159521885  dE = -0.0037597688  norm(t1,t2) = 0.00633887\n",
      "cycle = 5  E_corr(CCSD) = -0.510124156500411  dE = -9.19969785e-05  norm(t1,t2) = 0.00135032\n",
      "cycle = 6  E_corr(CCSD) = -0.509975228448143  dE = 0.000148928052  norm(t1,t2) = 0.000515884\n",
      "cycle = 7  E_corr(CCSD) = -0.509966803586925  dE = 8.42486122e-06  norm(t1,t2) = 0.000180114\n",
      "cycle = 8  E_corr(CCSD) = -0.509978326673995  dE = -1.15230871e-05  norm(t1,t2) = 7.27922e-05\n",
      "cycle = 9  E_corr(CCSD) = -0.509975217418459  dE = 3.10925554e-06  norm(t1,t2) = 3.04833e-05\n",
      "cycle = 10  E_corr(CCSD) = -0.50997582391564  dE = -6.06497181e-07  norm(t1,t2) = 1.06353e-05\n",
      "cycle = 11  E_corr(CCSD) = -0.50997554556727  dE = 2.7834837e-07  norm(t1,t2) = 3.893e-06\n",
      "cycle = 12  E_corr(CCSD) = -0.509975421622473  dE = 1.23944797e-07  norm(t1,t2) = 1.51713e-06\n",
      "cycle = 13  E_corr(CCSD) = -0.509975318705323  dE = 1.0291715e-07  norm(t1,t2) = 7.6122e-07\n",
      "cycle = 14  E_corr(CCSD) = -0.509975293167451  dE = 2.55378719e-08  norm(t1,t2) = 2.14699e-07\n",
      "CCSD converged\n",
      "E(CCSD) = -229.0316979788074  E_corr = -0.5099752931674513\n",
      "-229.0316979788074\n"
     ]
    }
   ],
   "source": [
    "from pyscf import cc\n",
    "\n",
    "start = time.time()\n",
    "mycc = cc.CCSD(myhf).run()\n",
    "mycc_time = time.time() - start +myhf_time\n",
    "energie2=mycc.e_tot\n",
    "print(energie2)"
   ]
  },
  {
   "cell_type": "markdown",
   "id": "b030a8c2-3cf6-4972-aee8-12ca46e976b8",
   "metadata": {},
   "source": [
    "#### <a id='toc1_1_'></a>[ Calcule du  CCSD(T) avec CCSD](#toc0_)"
   ]
  },
  {
   "cell_type": "code",
   "execution_count": 17,
   "id": "a13e1caf-94be-4b51-9014-9c17bd3d7c7e",
   "metadata": {},
   "outputs": [
    {
     "name": "stdout",
     "output_type": "stream",
     "text": [
      "CCSD(T) correction = -0.0179409187665789\n"
     ]
    }
   ],
   "source": [
    "start = time.time()\n",
    "e_ccsd_t = mycc.ccsd_t()\n",
    "mycct_time = time.time() - start + myhf_time"
   ]
  },
  {
   "cell_type": "code",
   "execution_count": 18,
   "id": "13f8d8ad-ab91-4be7-b324-ed9b0928415a",
   "metadata": {},
   "outputs": [
    {
     "data": {
      "text/plain": [
       "[4.494778156280518, 1.5649034976959229, 13.002567052841187, 3.488703727722168]"
      ]
     },
     "execution_count": 18,
     "metadata": {},
     "output_type": "execute_result"
    }
   ],
   "source": [
    "mf_times = [mdf_time, mymp2_time, mycc_time, mycct_time]\n",
    "energies = [mdf.e_tot,energie1,energie2,energie2+e_ccsd_t]\n",
    "ref_energies=[-569.077723,-568.010849,-568.030302\t,-568.069584]\n",
    "ecart_energies=[(mdf.e_tot + 569.077723)*627.5095,(energie1 + 569.077723)*627.5095,(energie2 + 569.077723)*627.5095,(energie2+e_ccsd_t + 569.077723)*627.5095]\n",
    "mf_times"
   ]
  },
  {
   "cell_type": "code",
   "execution_count": 84,
   "id": "b56733b4-ff1c-4561-8c88-ab2989a5c5c4",
   "metadata": {},
   "outputs": [
    {
     "name": "stdout",
     "output_type": "stream",
     "text": [
      "       Méthode  Énergie (Hartree)  Temps de calcul (s)\n",
      "0  B3LYP (DFT)        -229.951151           107.790000\n",
      "1    PBE (DFT)        -229.680410             7.930412\n",
      "2   TPSS (DFT)        -229.997515             7.930412\n",
      "3          MP2        -229.004294             1.564903\n",
      "4         CCSD        -229.031698            13.002567\n",
      "5      CCSD(T)        -229.049639             3.488704\n"
     ]
    }
   ],
   "source": [
    "import pandas as pd\n",
    "\n",
    "# Définir les énergies et les temps de calcul pour chaque méthode\n",
    "energies = {\n",
    "    'Méthode': ['B3LYP (DFT)', 'PBE (DFT)', 'TPSS (DFT)', 'MP2', 'CCSD', 'CCSD(T)'],\n",
    "    'Énergie (Hartree)': [\n",
    "        -229.951150579556,  # B3LYP\n",
    "        -229.680409971373,  # PBE\n",
    "        -229.99751491233,   # TPSS\n",
    "        -229.004293590945,  # MP2\n",
    "        -229.0316979788074, # CCSD\n",
    "        -229.0316979788074 + (-0.0179409187665789)  # CCSD(T)\n",
    "    ],\n",
    "    'Temps de calcul (s)': [\n",
    "        107.79,             # B3LYP (remplacez par le temps réel)\n",
    "        mdf_time,           # PBE (remplacez par le temps réel)\n",
    "        mdf_time,           # TPSS (remplacez par le temps réel)\n",
    "        mymp2_time,         # MP2 (remplacez par le temps réel)\n",
    "        mycc_time,         # CCSD (remplacez par le temps réel)\n",
    "        mycct_time         # CCSD(T) (remplacez par le temps réel)\n",
    "    ]\n",
    "}\n",
    "\n",
    "# Créer un DataFrame à partir du dictionnaire\n",
    "df_energies = pd.DataFrame(energies)\n",
    "\n",
    "# Afficher le tableau\n",
    "print(df_energies)"
   ]
  },
  {
   "cell_type": "code",
   "execution_count": null,
   "id": "86edcfd2-080b-406a-822e-8f9913c99edb",
   "metadata": {},
   "outputs": [],
   "source": [
    "# Create the results dataframe\n",
    "import pandas as pd\n",
    "# Define the calculation methods\n",
    "methods = ['DFT', 'MP2', 'CCSD', 'CCSD(T)']\n",
    "df_HF = pd.DataFrame({\"Methodes\":methods, \n",
    "                      'Total energy':energies,\n",
    "                      \"Reference energy\":ref_energies,\n",
    "                      \"ecart_ref_tot(kcal/mol)\":ecart_energies,\n",
    "                      \"Time\":mf_times})\n",
    "\n",
    "df_HF"
   ]
  },
  {
   "cell_type": "markdown",
   "id": "beacab90-ddff-404d-a62d-92404d9b1215",
   "metadata": {},
   "source": [
    "# Conclusion"
   ]
  },
  {
   "cell_type": "markdown",
   "id": "ea0db1d0-f8fe-4ee6-8712-d0673eb8c69b",
   "metadata": {},
   "source": [
    "L'étude approfondie de la molécule choisie révèle non seulement ses propriétés fondamentales mais aussi son potentiel d'application dans divers secteurs. Les analyses effectuées à l'aide de RDKit et les calculs de chimie quantique, bien que nécessitant des ressources informatiques significatives, offrent des informations précieuses qui complètent les données expérimentales disponibles sur des plateformes telles que PubChem et PDB. En résumé, cette démarche permet d'établir un lien entre la théorie et la pratique, tout en fournissant une base solide pour de futures recherches et développements dans le domaine de la chimie moléculaire."
   ]
  },
  {
   "cell_type": "code",
   "execution_count": null,
   "id": "d08ddc1b-db0c-43c8-bfb4-33ebb1c592d0",
   "metadata": {},
   "outputs": [],
   "source": []
  },
  {
   "cell_type": "code",
   "execution_count": null,
   "id": "e07be815-25d6-47e6-b350-cc3949763889",
   "metadata": {},
   "outputs": [],
   "source": []
  },
  {
   "cell_type": "code",
   "execution_count": null,
   "id": "8308cac4-d316-4211-92df-c114dbaf559e",
   "metadata": {},
   "outputs": [],
   "source": []
  },
  {
   "cell_type": "code",
   "execution_count": null,
   "id": "fe3cabdf-3bb7-4be9-a29f-438959d5d736",
   "metadata": {},
   "outputs": [],
   "source": []
  },
  {
   "cell_type": "code",
   "execution_count": null,
   "id": "ed1831db-6d2f-47d7-88f6-3d2f928af66f",
   "metadata": {},
   "outputs": [],
   "source": []
  },
  {
   "cell_type": "code",
   "execution_count": null,
   "id": "609a0f79-605e-456f-8067-3ef28a73ab37",
   "metadata": {},
   "outputs": [],
   "source": []
  },
  {
   "cell_type": "code",
   "execution_count": null,
   "id": "0feaa60a-a18f-4be7-90ca-ce934c5748f9",
   "metadata": {},
   "outputs": [],
   "source": []
  },
  {
   "cell_type": "code",
   "execution_count": null,
   "id": "099d4e81-d1f7-4eb5-be4d-d3a44261a88d",
   "metadata": {},
   "outputs": [],
   "source": []
  },
  {
   "cell_type": "code",
   "execution_count": null,
   "id": "5bb44906-118d-42d7-8db7-96558edf15e5",
   "metadata": {},
   "outputs": [],
   "source": []
  },
  {
   "cell_type": "code",
   "execution_count": null,
   "id": "93f04e27-5dc5-4221-980b-cbb908607962",
   "metadata": {},
   "outputs": [],
   "source": []
  },
  {
   "cell_type": "code",
   "execution_count": null,
   "id": "8ebe5dfe-ee86-4d16-9e4b-c47ec8567926",
   "metadata": {},
   "outputs": [],
   "source": []
  },
  {
   "cell_type": "code",
   "execution_count": null,
   "id": "5e2610ac-be52-4f1e-b39c-9113292a8564",
   "metadata": {},
   "outputs": [],
   "source": []
  },
  {
   "cell_type": "code",
   "execution_count": null,
   "id": "fc595671-15c5-4d54-8ae8-ff9ef8da40b1",
   "metadata": {},
   "outputs": [],
   "source": []
  },
  {
   "cell_type": "code",
   "execution_count": null,
   "id": "c6078db8-e6fa-4760-912e-cd93118e4f06",
   "metadata": {},
   "outputs": [],
   "source": []
  },
  {
   "cell_type": "code",
   "execution_count": null,
   "id": "da39be01-ba51-440d-a9a8-616be5e62740",
   "metadata": {},
   "outputs": [],
   "source": []
  },
  {
   "cell_type": "code",
   "execution_count": null,
   "id": "200bc9f5-494b-48da-946e-ff7acd42988a",
   "metadata": {},
   "outputs": [],
   "source": []
  },
  {
   "cell_type": "code",
   "execution_count": null,
   "id": "e8fcf28d-47f8-4772-8460-d17e03ee515c",
   "metadata": {},
   "outputs": [],
   "source": []
  },
  {
   "cell_type": "code",
   "execution_count": null,
   "id": "64070368-c701-478d-ab7d-6483d18caab5",
   "metadata": {},
   "outputs": [],
   "source": []
  }
 ],
 "metadata": {
  "kernelspec": {
   "display_name": "Python 3 (ipykernel)",
   "language": "python",
   "name": "python3"
  },
  "language_info": {
   "codemirror_mode": {
    "name": "ipython",
    "version": 3
   },
   "file_extension": ".py",
   "mimetype": "text/x-python",
   "name": "python",
   "nbconvert_exporter": "python",
   "pygments_lexer": "ipython3",
   "version": "3.11.7"
  }
 },
 "nbformat": 4,
 "nbformat_minor": 5
}
